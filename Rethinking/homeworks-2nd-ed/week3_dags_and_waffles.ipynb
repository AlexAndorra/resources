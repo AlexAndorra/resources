{
 "cells": [
  {
   "cell_type": "markdown",
   "metadata": {},
   "source": [
    "# Week 3 homeworks - Spurious waffles and Haunted DAG"
   ]
  },
  {
   "cell_type": "code",
   "execution_count": 1,
   "metadata": {},
   "outputs": [],
   "source": [
    "%load_ext lab_black\n",
    "%load_ext watermark\n",
    "%matplotlib inline\n",
    "\n",
    "import arviz as az\n",
    "import matplotlib.pyplot as plt\n",
    "import numpy as np\n",
    "import pandas as pd\n",
    "import pymc3 as pm\n",
    "import scipy as sp\n",
    "import seaborn as sns\n",
    "import warnings\n",
    "\n",
    "warnings.simplefilter(action=\"ignore\", category=FutureWarning)\n",
    "\n",
    "sns.set(context=\"notebook\", font_scale=1.2, rc={\"figure.figsize\": (12, 5)})\n",
    "plt.style.use([\"seaborn-colorblind\", \"seaborn-darkgrid\"])\n",
    "\n",
    "RANDOM_SEED = 8927\n",
    "np.random.seed(286)\n",
    "\n",
    "# Helper function\n",
    "def stdz(series: pd.Series):\n",
    "    \"\"\"Standardize the given pandas Series\"\"\"\n",
    "    return (series - series.mean()) / series.std()"
   ]
  },
  {
   "cell_type": "markdown",
   "metadata": {},
   "source": [
    "*All three problems below are based on the same data. The data in foxes.csv are 116 foxes from 30 different urban groups in England. These foxes are like street gangs. Group size varies from 2 to 8 individuals. Each group maintains its own (almost exclusive) urban territory. Some territories are larger than others. The `area` variable encodes this information. Some territories also have more `avgfood` than others. We want to model the `weight` of each fox. For the problems below, assume this DAG:*\n",
    "\n",
    "![Foxes DAG](img/foxes-dag.png)\n",
    "\n",
    "1. *Use a model to infer the total causal influence of `area` on `weight`. Would increasing the area available to each fox make it heavier (healthier)? You might want to standardize the variables. Regardless, use prior predictive simulations to show that your model’s prior predictions stay within the possible outcome range.*\n",
    "\n",
    "Because there are no back-door paths from `area` to `weight`, we only need to include `area`. No other variables are needed. Let's first standardized the variables and check our priors choices:"
   ]
  },
  {
   "cell_type": "code",
   "execution_count": 2,
   "metadata": {},
   "outputs": [
    {
     "data": {
      "text/html": [
       "<div>\n",
       "<style scoped>\n",
       "    .dataframe tbody tr th:only-of-type {\n",
       "        vertical-align: middle;\n",
       "    }\n",
       "\n",
       "    .dataframe tbody tr th {\n",
       "        vertical-align: top;\n",
       "    }\n",
       "\n",
       "    .dataframe thead th {\n",
       "        text-align: right;\n",
       "    }\n",
       "</style>\n",
       "<table border=\"1\" class=\"dataframe\">\n",
       "  <thead>\n",
       "    <tr style=\"text-align: right;\">\n",
       "      <th></th>\n",
       "      <th>group</th>\n",
       "      <th>avgfood</th>\n",
       "      <th>groupsize</th>\n",
       "      <th>area</th>\n",
       "      <th>weight</th>\n",
       "    </tr>\n",
       "  </thead>\n",
       "  <tbody>\n",
       "    <tr>\n",
       "      <th>count</th>\n",
       "      <td>116.00</td>\n",
       "      <td>116.00</td>\n",
       "      <td>116.00</td>\n",
       "      <td>116.00</td>\n",
       "      <td>116.00</td>\n",
       "    </tr>\n",
       "    <tr>\n",
       "      <th>mean</th>\n",
       "      <td>17.21</td>\n",
       "      <td>0.00</td>\n",
       "      <td>-0.00</td>\n",
       "      <td>-0.00</td>\n",
       "      <td>0.00</td>\n",
       "    </tr>\n",
       "    <tr>\n",
       "      <th>std</th>\n",
       "      <td>8.00</td>\n",
       "      <td>1.00</td>\n",
       "      <td>1.00</td>\n",
       "      <td>1.00</td>\n",
       "      <td>1.00</td>\n",
       "    </tr>\n",
       "    <tr>\n",
       "      <th>min</th>\n",
       "      <td>1.00</td>\n",
       "      <td>-1.92</td>\n",
       "      <td>-1.52</td>\n",
       "      <td>-2.24</td>\n",
       "      <td>-2.20</td>\n",
       "    </tr>\n",
       "    <tr>\n",
       "      <th>25%</th>\n",
       "      <td>11.75</td>\n",
       "      <td>-0.46</td>\n",
       "      <td>-0.87</td>\n",
       "      <td>-0.62</td>\n",
       "      <td>-0.68</td>\n",
       "    </tr>\n",
       "    <tr>\n",
       "      <th>50%</th>\n",
       "      <td>18.00</td>\n",
       "      <td>-0.08</td>\n",
       "      <td>-0.22</td>\n",
       "      <td>-0.04</td>\n",
       "      <td>-0.09</td>\n",
       "    </tr>\n",
       "    <tr>\n",
       "      <th>75%</th>\n",
       "      <td>24.00</td>\n",
       "      <td>0.24</td>\n",
       "      <td>0.43</td>\n",
       "      <td>0.65</td>\n",
       "      <td>0.71</td>\n",
       "    </tr>\n",
       "    <tr>\n",
       "      <th>max</th>\n",
       "      <td>30.00</td>\n",
       "      <td>2.31</td>\n",
       "      <td>2.38</td>\n",
       "      <td>2.05</td>\n",
       "      <td>2.55</td>\n",
       "    </tr>\n",
       "  </tbody>\n",
       "</table>\n",
       "</div>"
      ],
      "text/plain": [
       "        group  avgfood  groupsize    area  weight\n",
       "count  116.00   116.00     116.00  116.00  116.00\n",
       "mean    17.21     0.00      -0.00   -0.00    0.00\n",
       "std      8.00     1.00       1.00    1.00    1.00\n",
       "min      1.00    -1.92      -1.52   -2.24   -2.20\n",
       "25%     11.75    -0.46      -0.87   -0.62   -0.68\n",
       "50%     18.00    -0.08      -0.22   -0.04   -0.09\n",
       "75%     24.00     0.24       0.43    0.65    0.71\n",
       "max     30.00     2.31       2.38    2.05    2.55"
      ]
     },
     "execution_count": 2,
     "metadata": {},
     "output_type": "execute_result"
    }
   ],
   "source": [
    "foxes = pd.read_csv(\"../Data/foxes.csv\", sep=\";\")\n",
    "foxes[\"area\"] = stdz(foxes.area)\n",
    "foxes[\"avgfood\"] = stdz(foxes.avgfood)\n",
    "foxes[\"groupsize\"] = stdz(foxes.groupsize)\n",
    "foxes[\"weight\"] = stdz(foxes.weight)\n",
    "foxes.describe().round(2)"
   ]
  },
  {
   "cell_type": "code",
   "execution_count": 3,
   "metadata": {},
   "outputs": [
    {
     "data": {
      "text/plain": [
       "Text(0, 0.5, 'Mean weight (std)')"
      ]
     },
     "execution_count": 3,
     "metadata": {},
     "output_type": "execute_result"
    },
    {
     "data": {
      "image/png": "[encoded data removed]",
      "text/plain": [
       "<Figure size 864x360 with 1 Axes>"
      ]
     },
     "metadata": {
      "needs_background": "light"
     },
     "output_type": "display_data"
    }
   ],
   "source": [
    "# Prior predictive checks, to see if prior choice makes sense\n",
    "a_s = pm.Normal.dist(mu=0.0, sd=0.2).random(size=200)\n",
    "bA_s = pm.Normal.dist(mu=0.0, sd=0.5).random(size=200)\n",
    "\n",
    "plt.figure(figsize=(12, 5))\n",
    "for y_s in zip(a_s - 2.5 * bA_s, a_s + 2.5 * bA_s):\n",
    "    plt.plot([-2.5, 2.5], y_s, color=\"k\", alpha=0.2)\n",
    "plt.xlabel(\"Area (std)\")\n",
    "plt.ylabel(\"Mean weight (std)\")"
   ]
  },
  {
   "cell_type": "markdown",
   "metadata": {},
   "source": [
    "Here is a model using these standardized variables and priors:"
   ]
  },
  {
   "cell_type": "code",
   "execution_count": 4,
   "metadata": {},
   "outputs": [
    {
     "name": "stderr",
     "output_type": "stream",
     "text": [
      "Auto-assigning NUTS sampler...\n",
      "Initializing NUTS using jitter+adapt_diag...\n",
      "Multiprocess sampling (2 chains in 2 jobs)\n",
      "NUTS: [sigma, bA, a]\n",
      "Sampling 2 chains: 100%|██████████| 6000/6000 [00:09<00:00, 653.76draws/s]\n"
     ]
    },
    {
     "data": {
      "text/html": [
       "<div>\n",
       "<style scoped>\n",
       "    .dataframe tbody tr th:only-of-type {\n",
       "        vertical-align: middle;\n",
       "    }\n",
       "\n",
       "    .dataframe tbody tr th {\n",
       "        vertical-align: top;\n",
       "    }\n",
       "\n",
       "    .dataframe thead th {\n",
       "        text-align: right;\n",
       "    }\n",
       "</style>\n",
       "<table border=\"1\" class=\"dataframe\">\n",
       "  <thead>\n",
       "    <tr style=\"text-align: right;\">\n",
       "      <th></th>\n",
       "      <th>mean</th>\n",
       "      <th>sd</th>\n",
       "      <th>hpd_5.5%</th>\n",
       "      <th>hpd_94.5%</th>\n",
       "      <th>mcse_mean</th>\n",
       "      <th>mcse_sd</th>\n",
       "      <th>ess_mean</th>\n",
       "      <th>ess_sd</th>\n",
       "      <th>ess_bulk</th>\n",
       "      <th>ess_tail</th>\n",
       "      <th>r_hat</th>\n",
       "    </tr>\n",
       "  </thead>\n",
       "  <tbody>\n",
       "    <tr>\n",
       "      <th>a</th>\n",
       "      <td>-0.00</td>\n",
       "      <td>0.09</td>\n",
       "      <td>-0.15</td>\n",
       "      <td>0.13</td>\n",
       "      <td>0.0</td>\n",
       "      <td>0.0</td>\n",
       "      <td>3443.41</td>\n",
       "      <td>1027.93</td>\n",
       "      <td>3455.51</td>\n",
       "      <td>1682.05</td>\n",
       "      <td>1.0</td>\n",
       "    </tr>\n",
       "    <tr>\n",
       "      <th>bA</th>\n",
       "      <td>0.02</td>\n",
       "      <td>0.09</td>\n",
       "      <td>-0.11</td>\n",
       "      <td>0.17</td>\n",
       "      <td>0.0</td>\n",
       "      <td>0.0</td>\n",
       "      <td>2749.24</td>\n",
       "      <td>947.60</td>\n",
       "      <td>2770.97</td>\n",
       "      <td>1437.18</td>\n",
       "      <td>1.0</td>\n",
       "    </tr>\n",
       "    <tr>\n",
       "      <th>sigma</th>\n",
       "      <td>1.01</td>\n",
       "      <td>0.07</td>\n",
       "      <td>0.90</td>\n",
       "      <td>1.11</td>\n",
       "      <td>0.0</td>\n",
       "      <td>0.0</td>\n",
       "      <td>2486.80</td>\n",
       "      <td>2390.56</td>\n",
       "      <td>2622.76</td>\n",
       "      <td>1476.02</td>\n",
       "      <td>1.0</td>\n",
       "    </tr>\n",
       "  </tbody>\n",
       "</table>\n",
       "</div>"
      ],
      "text/plain": [
       "       mean    sd  hpd_5.5%  hpd_94.5%  mcse_mean  mcse_sd  ess_mean   ess_sd  \\\n",
       "a     -0.00  0.09     -0.15       0.13        0.0      0.0   3443.41  1027.93   \n",
       "bA     0.02  0.09     -0.11       0.17        0.0      0.0   2749.24   947.60   \n",
       "sigma  1.01  0.07      0.90       1.11        0.0      0.0   2486.80  2390.56   \n",
       "\n",
       "       ess_bulk  ess_tail  r_hat  \n",
       "a       3455.51   1682.05    1.0  \n",
       "bA      2770.97   1437.18    1.0  \n",
       "sigma   2622.76   1476.02    1.0  "
      ]
     },
     "execution_count": 4,
     "metadata": {},
     "output_type": "execute_result"
    }
   ],
   "source": [
    "with pm.Model() as m_fox:\n",
    "    a = pm.Normal(\"a\", 0.0, 0.2)\n",
    "    bA = pm.Normal(\"bA\", 0.0, 0.5)\n",
    "\n",
    "    mu = a + bA * foxes.area\n",
    "    sigma = pm.Exponential(\"sigma\", 1.0)\n",
    "\n",
    "    W = pm.Normal(\"W\", mu, sigma, observed=foxes.weight)\n",
    "\n",
    "    trace_fox = pm.sample(1000, tune=2000, cores=2, random_seed=RANDOM_SEED)\n",
    "\n",
    "post_fox = pm.trace_to_dataframe(trace_fox)\n",
    "az.summary(trace_fox, credible_interval=0.89, round_to=2)"
   ]
  },
  {
   "cell_type": "markdown",
   "metadata": {},
   "source": [
    "Territory size seems to have no total causal influence on weight, at least not in this sample."
   ]
  },
  {
   "cell_type": "markdown",
   "metadata": {},
   "source": [
    "2. *Now infer the causal impact of adding food to a territory. Would this make foxes heavier? Which covariates do you need to adjust for to estimate the total causal influence of food?*\n",
    "\n",
    "To infer the causal influence of `avgfood` on `weight`, we need to close any back-door paths. There are no back-door paths in the DAG. So again, just use a model with a single predictor. If you include `groupsize`, to block the indirect path, then you won’t get the *total* causal influence of food. You’ll just get the *direct* influence. But I asked for the *total* effect of adding food, and that would mean through all forward paths."
   ]
  },
  {
   "cell_type": "code",
   "execution_count": 5,
   "metadata": {},
   "outputs": [
    {
     "name": "stderr",
     "output_type": "stream",
     "text": [
      "Auto-assigning NUTS sampler...\n",
      "Initializing NUTS using jitter+adapt_diag...\n",
      "Multiprocess sampling (2 chains in 2 jobs)\n",
      "NUTS: [sigma, bF, a]\n",
      "Sampling 2 chains: 100%|██████████| 6000/6000 [00:08<00:00, 730.71draws/s]\n"
     ]
    },
    {
     "data": {
      "text/html": [
       "<div>\n",
       "<style scoped>\n",
       "    .dataframe tbody tr th:only-of-type {\n",
       "        vertical-align: middle;\n",
       "    }\n",
       "\n",
       "    .dataframe tbody tr th {\n",
       "        vertical-align: top;\n",
       "    }\n",
       "\n",
       "    .dataframe thead th {\n",
       "        text-align: right;\n",
       "    }\n",
       "</style>\n",
       "<table border=\"1\" class=\"dataframe\">\n",
       "  <thead>\n",
       "    <tr style=\"text-align: right;\">\n",
       "      <th></th>\n",
       "      <th>mean</th>\n",
       "      <th>sd</th>\n",
       "      <th>hpd_5.5%</th>\n",
       "      <th>hpd_94.5%</th>\n",
       "      <th>mcse_mean</th>\n",
       "      <th>mcse_sd</th>\n",
       "      <th>ess_mean</th>\n",
       "      <th>ess_sd</th>\n",
       "      <th>ess_bulk</th>\n",
       "      <th>ess_tail</th>\n",
       "      <th>r_hat</th>\n",
       "    </tr>\n",
       "  </thead>\n",
       "  <tbody>\n",
       "    <tr>\n",
       "      <th>a</th>\n",
       "      <td>-0.00</td>\n",
       "      <td>0.09</td>\n",
       "      <td>-0.13</td>\n",
       "      <td>0.14</td>\n",
       "      <td>0.0</td>\n",
       "      <td>0.0</td>\n",
       "      <td>2862.87</td>\n",
       "      <td>1015.79</td>\n",
       "      <td>2904.02</td>\n",
       "      <td>1476.23</td>\n",
       "      <td>1.0</td>\n",
       "    </tr>\n",
       "    <tr>\n",
       "      <th>bF</th>\n",
       "      <td>-0.02</td>\n",
       "      <td>0.09</td>\n",
       "      <td>-0.17</td>\n",
       "      <td>0.12</td>\n",
       "      <td>0.0</td>\n",
       "      <td>0.0</td>\n",
       "      <td>4015.25</td>\n",
       "      <td>1027.10</td>\n",
       "      <td>3997.99</td>\n",
       "      <td>1401.76</td>\n",
       "      <td>1.0</td>\n",
       "    </tr>\n",
       "    <tr>\n",
       "      <th>sigma</th>\n",
       "      <td>1.01</td>\n",
       "      <td>0.07</td>\n",
       "      <td>0.90</td>\n",
       "      <td>1.11</td>\n",
       "      <td>0.0</td>\n",
       "      <td>0.0</td>\n",
       "      <td>2975.21</td>\n",
       "      <td>2935.89</td>\n",
       "      <td>2991.55</td>\n",
       "      <td>1500.96</td>\n",
       "      <td>1.0</td>\n",
       "    </tr>\n",
       "  </tbody>\n",
       "</table>\n",
       "</div>"
      ],
      "text/plain": [
       "       mean    sd  hpd_5.5%  hpd_94.5%  mcse_mean  mcse_sd  ess_mean   ess_sd  \\\n",
       "a     -0.00  0.09     -0.13       0.14        0.0      0.0   2862.87  1015.79   \n",
       "bF    -0.02  0.09     -0.17       0.12        0.0      0.0   4015.25  1027.10   \n",
       "sigma  1.01  0.07      0.90       1.11        0.0      0.0   2975.21  2935.89   \n",
       "\n",
       "       ess_bulk  ess_tail  r_hat  \n",
       "a       2904.02   1476.23    1.0  \n",
       "bF      3997.99   1401.76    1.0  \n",
       "sigma   2991.55   1500.96    1.0  "
      ]
     },
     "execution_count": 5,
     "metadata": {},
     "output_type": "execute_result"
    }
   ],
   "source": [
    "with pm.Model() as m_food:\n",
    "    a = pm.Normal(\"a\", 0.0, 0.2)\n",
    "    bF = pm.Normal(\"bF\", 0.0, 0.5)\n",
    "\n",
    "    mu = a + bF * foxes.avgfood\n",
    "    sigma = pm.Exponential(\"sigma\", 1.0)\n",
    "\n",
    "    W = pm.Normal(\"W\", mu, sigma, observed=foxes.weight)\n",
    "\n",
    "    trace_food = pm.sample(1000, tune=2000, cores=2, random_seed=RANDOM_SEED)\n",
    "\n",
    "post_food = pm.trace_to_dataframe(trace_food)\n",
    "az.summary(trace_food, credible_interval=0.89, round_to=2)"
   ]
  },
  {
   "cell_type": "markdown",
   "metadata": {},
   "source": [
    "Again, nothing. Adding food does not change weight. This shouldn’t surprise you, if the DAG is correct, because `area` is upstream of `avgfood`."
   ]
  },
  {
   "cell_type": "markdown",
   "metadata": {},
   "source": [
    "3. *Now infer the causal impact of group size. Which covariates do you need to adjust for? Looking at the posterior distribution of the resulting model, what do you think explains these data? That is, can you explain the estimates for all three problems? How do they go together?*\n",
    "\n",
    "The variable `groupsize` does have a back-door path, passing through `avgfood`. So to infer the causal influence of `groupsize`, we need to close that path. This implies a model with both `groupsize` and `avgfood` as predictors."
   ]
  },
  {
   "cell_type": "code",
   "execution_count": 6,
   "metadata": {},
   "outputs": [
    {
     "name": "stderr",
     "output_type": "stream",
     "text": [
      "Auto-assigning NUTS sampler...\n",
      "Initializing NUTS using jitter+adapt_diag...\n",
      "Multiprocess sampling (2 chains in 2 jobs)\n",
      "NUTS: [sigma, bG, bF, a]\n",
      "Sampling 2 chains: 100%|██████████| 6000/6000 [00:13<00:00, 438.74draws/s]\n"
     ]
    },
    {
     "data": {
      "text/html": [
       "<div>\n",
       "<style scoped>\n",
       "    .dataframe tbody tr th:only-of-type {\n",
       "        vertical-align: middle;\n",
       "    }\n",
       "\n",
       "    .dataframe tbody tr th {\n",
       "        vertical-align: top;\n",
       "    }\n",
       "\n",
       "    .dataframe thead th {\n",
       "        text-align: right;\n",
       "    }\n",
       "</style>\n",
       "<table border=\"1\" class=\"dataframe\">\n",
       "  <thead>\n",
       "    <tr style=\"text-align: right;\">\n",
       "      <th></th>\n",
       "      <th>mean</th>\n",
       "      <th>sd</th>\n",
       "      <th>hpd_5.5%</th>\n",
       "      <th>hpd_94.5%</th>\n",
       "      <th>mcse_mean</th>\n",
       "      <th>mcse_sd</th>\n",
       "      <th>ess_mean</th>\n",
       "      <th>ess_sd</th>\n",
       "      <th>ess_bulk</th>\n",
       "      <th>ess_tail</th>\n",
       "      <th>r_hat</th>\n",
       "    </tr>\n",
       "  </thead>\n",
       "  <tbody>\n",
       "    <tr>\n",
       "      <th>a</th>\n",
       "      <td>-0.00</td>\n",
       "      <td>0.08</td>\n",
       "      <td>-0.13</td>\n",
       "      <td>0.12</td>\n",
       "      <td>0.00</td>\n",
       "      <td>0.0</td>\n",
       "      <td>2093.07</td>\n",
       "      <td>966.76</td>\n",
       "      <td>2089.74</td>\n",
       "      <td>1498.85</td>\n",
       "      <td>1.01</td>\n",
       "    </tr>\n",
       "    <tr>\n",
       "      <th>bF</th>\n",
       "      <td>0.48</td>\n",
       "      <td>0.18</td>\n",
       "      <td>0.20</td>\n",
       "      <td>0.80</td>\n",
       "      <td>0.01</td>\n",
       "      <td>0.0</td>\n",
       "      <td>1146.88</td>\n",
       "      <td>1139.20</td>\n",
       "      <td>1144.75</td>\n",
       "      <td>1154.05</td>\n",
       "      <td>1.00</td>\n",
       "    </tr>\n",
       "    <tr>\n",
       "      <th>bG</th>\n",
       "      <td>-0.57</td>\n",
       "      <td>0.18</td>\n",
       "      <td>-0.88</td>\n",
       "      <td>-0.30</td>\n",
       "      <td>0.01</td>\n",
       "      <td>0.0</td>\n",
       "      <td>1205.35</td>\n",
       "      <td>1181.08</td>\n",
       "      <td>1204.92</td>\n",
       "      <td>1331.47</td>\n",
       "      <td>1.00</td>\n",
       "    </tr>\n",
       "    <tr>\n",
       "      <th>sigma</th>\n",
       "      <td>0.96</td>\n",
       "      <td>0.06</td>\n",
       "      <td>0.87</td>\n",
       "      <td>1.07</td>\n",
       "      <td>0.00</td>\n",
       "      <td>0.0</td>\n",
       "      <td>2036.35</td>\n",
       "      <td>2002.90</td>\n",
       "      <td>2090.18</td>\n",
       "      <td>1436.84</td>\n",
       "      <td>1.00</td>\n",
       "    </tr>\n",
       "  </tbody>\n",
       "</table>\n",
       "</div>"
      ],
      "text/plain": [
       "       mean    sd  hpd_5.5%  hpd_94.5%  mcse_mean  mcse_sd  ess_mean   ess_sd  \\\n",
       "a     -0.00  0.08     -0.13       0.12       0.00      0.0   2093.07   966.76   \n",
       "bF     0.48  0.18      0.20       0.80       0.01      0.0   1146.88  1139.20   \n",
       "bG    -0.57  0.18     -0.88      -0.30       0.01      0.0   1205.35  1181.08   \n",
       "sigma  0.96  0.06      0.87       1.07       0.00      0.0   2036.35  2002.90   \n",
       "\n",
       "       ess_bulk  ess_tail  r_hat  \n",
       "a       2089.74   1498.85   1.01  \n",
       "bF      1144.75   1154.05   1.00  \n",
       "bG      1204.92   1331.47   1.00  \n",
       "sigma   2090.18   1436.84   1.00  "
      ]
     },
     "execution_count": 6,
     "metadata": {},
     "output_type": "execute_result"
    }
   ],
   "source": [
    "with pm.Model() as m_group:\n",
    "    a = pm.Normal(\"a\", 0.0, 0.2)\n",
    "    bF = pm.Normal(\"bF\", 0.0, 0.5)\n",
    "    bG = pm.Normal(\"bG\", 0.0, 0.5)\n",
    "\n",
    "    mu = a + bF * foxes.avgfood + bG * foxes.groupsize\n",
    "    sigma = pm.Exponential(\"sigma\", 1.0)\n",
    "\n",
    "    W = pm.Normal(\"W\", mu, sigma, observed=foxes.weight)\n",
    "\n",
    "    trace_group = pm.sample(1000, tune=2000, cores=2, random_seed=RANDOM_SEED)\n",
    "\n",
    "post_group = pm.trace_to_dataframe(trace_group)\n",
    "az.summary(trace_group, credible_interval=0.89, round_to=2)"
   ]
  },
  {
   "cell_type": "markdown",
   "metadata": {},
   "source": [
    "It looks like group size is negatively associated with weight, controlling for food. Similarly, food is positively associated with weight, controlling for group size. So the causal influence of group size is to reduce weight — less food for each fox. And the *direct* causal influence of food is positive, of course. But the *total* causal influence of food is still nothing, since it causes larger groups. \n",
    "\n",
    "This is a masking effect, like in the milk energy example. But the causal explanation here is that more foxes move into a territory until the food available to each is no better than the food in a neighboring territory. Every territory ends up equally good/bad on average. This is known in behavioral ecology as an *ideal free distribution*."
   ]
  },
  {
   "cell_type": "code",
   "execution_count": 7,
   "metadata": {},
   "outputs": [
    {
     "name": "stdout",
     "output_type": "stream",
     "text": [
      "matplotlib 3.0.3\n",
      "pandas     0.24.2\n",
      "scipy      1.2.1\n",
      "pymc3      3.7\n",
      "seaborn    0.9.0\n",
      "numpy      1.16.3\n",
      "arviz      0.4.1\n",
      "AlexAndorra \n",
      "last updated: Wed Sep 11 2019 \n",
      "\n",
      "CPython 3.7.3\n",
      "IPython 7.5.0\n",
      "\n",
      "compiler   : Clang 4.0.1 (tags/RELEASE_401/final)\n",
      "system     : Darwin\n",
      "release    : 15.6.0\n",
      "machine    : x86_64\n",
      "processor  : i386\n",
      "CPU cores  : 2\n",
      "interpreter: 64bit\n"
     ]
    }
   ],
   "source": [
    "%watermark -a AlexAndorra -n -u -v -m -iv"
   ]
  },
  {
   "cell_type": "code",
   "execution_count": null,
   "metadata": {},
   "outputs": [],
   "source": []
  }
 ],
 "metadata": {
  "kernelspec": {
   "display_name": "stat-rethink-pymc3",
   "language": "python",
   "name": "stat-rethink-pymc3"
  },
  "language_info": {
   "codemirror_mode": {
    "name": "ipython",
    "version": 3
   },
   "file_extension": ".py",
   "mimetype": "text/x-python",
   "name": "python",
   "nbconvert_exporter": "python",
   "pygments_lexer": "ipython3",
   "version": "3.7.3"
  }
 },
 "nbformat": 4,
 "nbformat_minor": 2
}
